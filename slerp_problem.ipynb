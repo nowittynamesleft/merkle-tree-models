{
 "cells": [
  {
   "cell_type": "code",
   "execution_count": 1,
   "metadata": {
    "colab": {
     "base_uri": "https://localhost:8080/"
    },
    "id": "WwPU6S1ZdUN8",
    "outputId": "fb430210-3e7d-42eb-ab26-0db9538130a4"
   },
   "outputs": [
    {
     "name": "stdout",
     "output_type": "stream",
     "text": [
      "num_params=19210\n"
     ]
    }
   ],
   "source": [
    "# Import libraries\n",
    "\n",
    "import numpy as np\n",
    "import torch\n",
    "import torch.nn as nn\n",
    "import torch.nn.functional as F\n",
    "import torch.optim as optim\n",
    "import matplotlib.pyplot as plt\n",
    "import json\n",
    "import asyncio\n",
    "from sklearn import datasets\n",
    "from tqdm import tqdm\n",
    "import os\n",
    "import time\n",
    "\n",
    "os.environ['RUST_BACKTRACE'] = 'full'\n",
    "\n",
    "# check if notebook is in colab\n",
    "try:\n",
    "    # install ezkl\n",
    "    import google.colab\n",
    "    import subprocess\n",
    "    import sys\n",
    "    subprocess.check_call([sys.executable, \"-m\", \"pip\", \"install\", \"ezkl\"])\n",
    "    subprocess.check_call([sys.executable, \"-m\", \"pip\", \"install\", \"onnx\"])\n",
    "\n",
    "# rely on local installation of ezkl if the notebook is not in colab\n",
    "except:\n",
    "    pass\n",
    "\n",
    "import ezkl\n",
    "import os\n",
    "\n",
    "# Neural network definition\n",
    "hidden_dim = 256\n",
    "input_dim = 64\n",
    "output_dim = 10\n",
    "num_params = (1 + input_dim) * hidden_dim + (1 + hidden_dim) * output_dim\n",
    "print(f'num_params={num_params}')\n",
    "\n",
    "\n",
    "class MLP(nn.Module):\n",
    "    def __init__(self):\n",
    "        super(MLP, self).__init__()\n",
    "        self.fc1 = nn.Linear(input_dim, hidden_dim)\n",
    "        self.fc2 = nn.Linear(hidden_dim, output_dim)\n",
    "\n",
    "    def forward(self, x):\n",
    "        x = F.relu(self.fc1(x))\n",
    "        x = self.fc2(x)\n",
    "        return x\n",
    "\n",
    "mlp1 = MLP()\n",
    "mlp2 = MLP()\n",
    "\n",
    "# get flat parameters of seed models to merge\n",
    "mlp1_param = torch.concatenate([mlp1.state_dict()['fc1.weight'].view(-1), mlp1.state_dict()['fc1.bias'].view(-1), mlp1.state_dict()['fc2.weight'].view(-1), mlp1.state_dict()['fc2.bias'].view(-1)])\n",
    "mlp2_param = torch.concatenate([mlp2.state_dict()['fc1.weight'].view(-1), mlp2.state_dict()['fc1.bias'].view(-1), mlp2.state_dict()['fc2.weight'].view(-1), mlp2.state_dict()['fc2.bias'].view(-1)])\n"
   ]
  },
  {
   "cell_type": "code",
   "execution_count": 2,
   "metadata": {
    "colab": {
     "base_uri": "https://localhost:8080/",
     "height": 374
    },
    "id": "6EVdBmBnfA2m",
    "outputId": "641b1c70-6d5e-418c-d1b0-0f9ac7a26e48"
   },
   "outputs": [],
   "source": [
    "# Model merge class definitions\n",
    "\n",
    "class Slerp(nn.Module):\n",
    "    def __init__(self):\n",
    "        super(Slerp, self).__init__()\n",
    "\n",
    "    def forward(self, val, x, y):\n",
    "      norm_x = F.normalize(x, dim=-1)\n",
    "      norm_y = F.normalize(y, dim=-1)\n",
    "      dot = torch.sum(norm_x * norm_y, dim=-1, keepdim=True)\n",
    "      omega = torch.acos(torch.clamp(dot, -1.0, 1.0))\n",
    "      sin_omega = torch.sin(omega)\n",
    "      scale_x = torch.sin((1.0 - val) * omega) / sin_omega\n",
    "      scale_y = torch.sin(val * omega) / sin_omega\n",
    "      lin_scale_x = 1.0 - val\n",
    "      lin_scale_y = val\n",
    "      return torch.where(sin_omega > 1e-6, scale_x * x + scale_y * y, lin_scale_x * x + lin_scale_y * y)\n",
    "\n",
    "class WeightedAvg(nn.Module):\n",
    "    def __init__(self):\n",
    "        super(WeightedAvg, self).__init__()\n",
    "\n",
    "    def forward(self, val, x, y):\n",
    "        return val*x + (1-val)*y\n",
    "\n",
    "slerp = Slerp()\n",
    "weighted_avg = WeightedAvg()\n",
    "\n",
    "RUN_FOLDER = './test_merge_dir/'\n",
    "\n",
    "from pathlib import Path\n",
    "Path(RUN_FOLDER).mkdir(parents=True, exist_ok=True) # create directory if it's not there\n",
    "\n",
    "# calibration function for either merge operation\n",
    "async def calibrate_operation(op_name, example_inputs, calibration_inputs, input_names, operation_fn, output_names):\n",
    "    model_path = os.path.join(RUN_FOLDER + op_name + '.onnx')\n",
    "    compiled_model_path = os.path.join(RUN_FOLDER + op_name + '_network.compiled')\n",
    "    pk_path = os.path.join(RUN_FOLDER + op_name + '_test.pk')\n",
    "    vk_path = os.path.join(RUN_FOLDER + op_name + '_test.vk')\n",
    "    settings_path = os.path.join(RUN_FOLDER + op_name + '_settings.json')\n",
    "    witness_path = os.path.join(RUN_FOLDER + op_name + '_calibration_witness.json')\n",
    "    data_path = os.path.join(RUN_FOLDER + op_name + '_calibration_input.json')\n",
    "\n",
    "    #import ipdb; ipdb.set_trace()\n",
    "    torch.onnx.export(\n",
    "        operation_fn,                       # the model/module to be exported\n",
    "        example_inputs,                 # example inputs\n",
    "        model_path,                # the file name to save the ONNX model\n",
    "        export_params=True,          # store the trained parameter weights inside the model file\n",
    "        opset_version=11,            # the ONNX version to export the model to\n",
    "        do_constant_folding=True,    # whether to execute constant folding for optimization\n",
    "        input_names=input_names,  # input names\n",
    "        output_names=output_names        # output name\n",
    "    )\n",
    "    \n",
    "    py_run_args = ezkl.PyRunArgs()\n",
    "    py_run_args.input_visibility = \"public\"\n",
    "    py_run_args.output_visibility = \"public\"\n",
    "    py_run_args.param_visibility = \"fixed\" # \"fixed\" for params means that the committed to params are used for all proofs\n",
    "\n",
    "    res = ezkl.gen_settings(model_path, settings_path, py_run_args=py_run_args)\n",
    "\n",
    "    assert res == True\n",
    "    data = dict(input_data = calibration_inputs)\n",
    "    cal_path = os.path.join(RUN_FOLDER + op_name + \"_calibration.json\")\n",
    "\n",
    "    json.dump(data, open(cal_path, 'w'))\n",
    "\n",
    "    await ezkl.calibrate_settings(cal_path, model_path, settings_path, \"resources\")\n",
    "\n",
    "    res = ezkl.compile_circuit(model_path, compiled_model_path, settings_path)\n",
    "    assert res == True\n",
    "    return model_path, compiled_model_path, settings_path, vk_path, pk_path\n",
    "\n"
   ]
  },
  {
   "cell_type": "code",
   "execution_count": 3,
   "metadata": {
    "colab": {
     "base_uri": "https://localhost:8080/",
     "height": 374
    },
    "id": "6EVdBmBnfA2m",
    "outputId": "641b1c70-6d5e-418c-d1b0-0f9ac7a26e48"
   },
   "outputs": [
    {
     "name": "stderr",
     "output_type": "stream",
     "text": [
      "Using 2 columns for non-linearity table.\n",
      "Using 3 columns for non-linearity table.\n",
      "Using 3 columns for non-linearity table.\n",
      "\n",
      "\n",
      " <------------- Numerical Fidelity Report (input_scale: 13, param_scale: 13, scale_input_multiplier: 10) ------------->\n",
      "\n",
      "+------------------+----------------+---------------+----------------+----------------+------------------+---------------+---------------+--------------------+--------------------+------------------------+\n",
      "| mean_error       | median_error   | max_error     | min_error      | mean_abs_error | median_abs_error | max_abs_error | min_abs_error | mean_squared_error | mean_percent_error | mean_abs_percent_error |\n",
      "+------------------+----------------+---------------+----------------+----------------+------------------+---------------+---------------+--------------------+--------------------+------------------------+\n",
      "| 0.00000018319736 | 0.000008374453 | 0.00007992983 | -0.00007939339 | 0.000021565987 | 0.000008374453   | 0.00007992983 | 0             | 0.0000000007028769 | -0.0000007990701   | 0.000058533016         |\n",
      "+------------------+----------------+---------------+----------------+----------------+------------------+---------------+---------------+--------------------+--------------------+------------------------+\n",
      "\n",
      "\n"
     ]
    },
    {
     "name": "stdout",
     "output_type": "stream",
     "text": [
      "Calibration duration for weighted average: 13.178054809570312\n"
     ]
    }
   ],
   "source": [
    "# calibrate weighted average operation\n",
    "val = torch.rand(1)\n",
    "loop = asyncio.get_event_loop()\n",
    "calibrate_start = time.time()\n",
    "\n",
    "op_name = 'weighted_avg'\n",
    "example_inputs = (val, mlp1_param, mlp2_param)\n",
    "\n",
    "# inputs to merge function are the randomly sampled weight value, and the flattened parameters of each of the two parent models to be merged\n",
    "calibration_inputs = [[val.item()], \n",
    "                              torch.rand(*mlp1_param.shape).detach().numpy().reshape(-1).tolist(), \n",
    "                              torch.rand(*mlp2_param.shape).detach().numpy().reshape(-1).tolist()]\n",
    "input_names = ['val', 'parent_1', 'parent_2']  # input names\n",
    "operation_fn = weighted_avg\n",
    "output_names = ['merged_weights']        # output name\n",
    "\n",
    "model_path, compiled_model_path, settings_path, vk_path, pk_path = await calibrate_operation(op_name, example_inputs, calibration_inputs, input_names, operation_fn, output_names)\n",
    "\n",
    "calibrate_end = time.time()\n",
    "calibration_duration = calibrate_end - calibrate_start\n",
    "print('Calibration duration for weighted average: ' + str(calibration_duration))"
   ]
  },
  {
   "cell_type": "code",
   "execution_count": 4,
   "metadata": {
    "colab": {
     "base_uri": "https://localhost:8080/",
     "height": 374
    },
    "id": "6EVdBmBnfA2m",
    "outputId": "641b1c70-6d5e-418c-d1b0-0f9ac7a26e48"
   },
   "outputs": [
    {
     "name": "stdout",
     "output_type": "stream",
     "text": [
      "get_srs(./test_merge_dir/weighted_avg_settings.json\n",
      "after get_srs(./test_merge_dir/weighted_avg_settings.json\n"
     ]
    }
   ],
   "source": [
    "# srs path\n",
    "print(f'get_srs({settings_path}')\n",
    "res = ezkl.get_srs(settings_path)\n",
    "print(f'after get_srs({settings_path}')"
   ]
  },
  {
   "cell_type": "code",
   "execution_count": 5,
   "metadata": {
    "colab": {
     "base_uri": "https://localhost:8080/",
     "height": 374
    },
    "id": "6EVdBmBnfA2m",
    "outputId": "641b1c70-6d5e-418c-d1b0-0f9ac7a26e48"
   },
   "outputs": [
    {
     "name": "stdout",
     "output_type": "stream",
     "text": [
      "ezkl.setup(./test_merge_dir/weighted_avg_network.compiled, ./test_merge_dir/weighted_avg_test.vk, ./test_merge_dir/weighted_avg_test.pk\n"
     ]
    }
   ],
   "source": [
    "print(f'ezkl.setup({compiled_model_path}, {vk_path}, {pk_path}')\n",
    "res = ezkl.setup(\n",
    "        compiled_model_path,\n",
    "        vk_path,\n",
    "        pk_path,\n",
    "    )\n",
    "\n",
    "assert res == True"
   ]
  },
  {
   "cell_type": "code",
   "execution_count": 6,
   "metadata": {
    "colab": {
     "base_uri": "https://localhost:8080/",
     "height": 374
    },
    "id": "6EVdBmBnfA2m",
    "outputId": "641b1c70-6d5e-418c-d1b0-0f9ac7a26e48"
   },
   "outputs": [
    {
     "name": "stderr",
     "output_type": "stream",
     "text": [
      "value (1443106651889401625313280) out of range: (0, 0)\n",
      "forward pass failed: \"failed to forward: [halo2] General synthesis error\"\n",
      "value (1443106651889401625313280) out of range: (0, 0)\n",
      "forward pass failed: \"failed to forward: [halo2] General synthesis error\"\n",
      "value (1443106651889401625313280) out of range: (0, 0)\n",
      "forward pass failed: \"failed to forward: [halo2] General synthesis error\"\n",
      "value (1443106651889401625313280) out of range: (0, 0)\n",
      "forward pass failed: \"failed to forward: [halo2] General synthesis error\"\n",
      "Using 2 columns for non-linearity table.\n",
      "Using 2 columns for non-linearity table.\n",
      "Using 2 columns for non-linearity table.\n",
      "Using 2 columns for non-linearity table.\n",
      "Using 2 columns for non-linearity table.\n",
      "Using 2 columns for non-linearity table.\n",
      "Using 2 columns for non-linearity table.\n",
      "Using 2 columns for non-linearity table.\n",
      "Using 2 columns for non-linearity table.\n",
      "Using 2 columns for non-linearity table.\n",
      "Using 4 columns for non-linearity table.\n",
      "Using 4 columns for non-linearity table.\n",
      "Using 4 columns for non-linearity table.\n",
      "Using 4 columns for non-linearity table.\n",
      "Using 4 columns for non-linearity table.\n",
      "Using 4 columns for non-linearity table.\n",
      "Using 4 columns for non-linearity table.\n",
      "Using 4 columns for non-linearity table.\n",
      "Using 4 columns for non-linearity table.\n",
      "Using 4 columns for non-linearity table.\n",
      "Using 4 columns for non-linearity table.\n",
      "Using 4 columns for non-linearity table.\n",
      "Using 4 columns for non-linearity table.\n",
      "Using 4 columns for non-linearity table.\n",
      "Using 4 columns for non-linearity table.\n",
      "Using 4 columns for non-linearity table.\n",
      "Using 4 columns for non-linearity table.\n",
      "Using 4 columns for non-linearity table.\n",
      "Using 4 columns for non-linearity table.\n",
      "Using 4 columns for non-linearity table.\n",
      "Using 2 columns for non-linearity table.\n",
      "Using 2 columns for non-linearity table.\n",
      "Using 2 columns for non-linearity table.\n",
      "Using 2 columns for non-linearity table.\n",
      "Using 2 columns for non-linearity table.\n",
      "Using 2 columns for non-linearity table.\n",
      "Using 2 columns for non-linearity table.\n",
      "Using 4 columns for non-linearity table.\n",
      "Using 4 columns for non-linearity table.\n",
      "Using 4 columns for non-linearity table.\n",
      "Using 4 columns for non-linearity table.\n",
      "Using 4 columns for non-linearity table.\n",
      "Using 4 columns for non-linearity table.\n",
      "Using 4 columns for non-linearity table.\n",
      "Using 4 columns for non-linearity table.\n",
      "Using 4 columns for non-linearity table.\n",
      "Using 4 columns for non-linearity table.\n",
      "Using 4 columns for non-linearity table.\n",
      "Using 4 columns for non-linearity table.\n",
      "Using 4 columns for non-linearity table.\n",
      "Using 4 columns for non-linearity table.\n",
      "value (1443106651889401625313280) out of range: (0, 0)\n",
      "forward pass failed: \"failed to forward: [halo2] General synthesis error\"\n",
      "value (1443106651889401625313280) out of range: (0, 0)\n",
      "forward pass failed: \"failed to forward: [halo2] General synthesis error\"\n",
      "value (6568977499990082730596499456) out of range: (0, 0)\n",
      "forward pass failed: \"failed to forward: [halo2] General synthesis error\"\n",
      "value (6568977499990082730596499456) out of range: (0, 0)\n",
      "forward pass failed: \"failed to forward: [halo2] General synthesis error\"\n",
      "Using 2 columns for non-linearity table.\n",
      "Using 2 columns for non-linearity table.\n",
      "Using 2 columns for non-linearity table.\n",
      "Using 2 columns for non-linearity table.\n",
      "Using 2 columns for non-linearity table.\n",
      "Using 2 columns for non-linearity table.\n",
      "Using 2 columns for non-linearity table.\n",
      "Using 2 columns for non-linearity table.\n",
      "Using 2 columns for non-linearity table.\n",
      "Using 2 columns for non-linearity table.\n",
      "Using 4 columns for non-linearity table.\n",
      "Using 4 columns for non-linearity table.\n",
      "Using 4 columns for non-linearity table.\n",
      "Using 4 columns for non-linearity table.\n",
      "Using 4 columns for non-linearity table.\n",
      "Using 4 columns for non-linearity table.\n",
      "Using 4 columns for non-linearity table.\n",
      "Using 4 columns for non-linearity table.\n",
      "Using 4 columns for non-linearity table.\n",
      "Using 4 columns for non-linearity table.\n",
      "Using 4 columns for non-linearity table.\n",
      "Using 4 columns for non-linearity table.\n",
      "Using 4 columns for non-linearity table.\n",
      "Using 4 columns for non-linearity table.\n",
      "Using 4 columns for non-linearity table.\n",
      "Using 4 columns for non-linearity table.\n",
      "Using 4 columns for non-linearity table.\n",
      "Using 4 columns for non-linearity table.\n",
      "Using 4 columns for non-linearity table.\n",
      "Using 4 columns for non-linearity table.\n",
      "Using 2 columns for non-linearity table.\n",
      "Using 2 columns for non-linearity table.\n",
      "Using 2 columns for non-linearity table.\n",
      "Using 2 columns for non-linearity table.\n",
      "Using 2 columns for non-linearity table.\n",
      "Using 2 columns for non-linearity table.\n",
      "Using 2 columns for non-linearity table.\n",
      "Using 4 columns for non-linearity table.\n",
      "Using 4 columns for non-linearity table.\n",
      "Using 4 columns for non-linearity table.\n",
      "Using 4 columns for non-linearity table.\n",
      "Using 4 columns for non-linearity table.\n",
      "Using 4 columns for non-linearity table.\n",
      "Using 4 columns for non-linearity table.\n",
      "Using 4 columns for non-linearity table.\n",
      "Using 4 columns for non-linearity table.\n",
      "Using 4 columns for non-linearity table.\n",
      "Using 4 columns for non-linearity table.\n",
      "Using 4 columns for non-linearity table.\n",
      "Using 4 columns for non-linearity table.\n",
      "Using 4 columns for non-linearity table.\n",
      "value (6568977499990082730596499456) out of range: (0, 0)\n",
      "forward pass failed: \"failed to forward: [halo2] General synthesis error\"\n",
      "value (6568977499990082730596499456) out of range: (0, 0)\n",
      "forward pass failed: \"failed to forward: [halo2] General synthesis error\"\n",
      "Using 3 columns for non-linearity table.\n",
      "Using 3 columns for non-linearity table.\n",
      "Using 3 columns for non-linearity table.\n",
      "Using 3 columns for non-linearity table.\n",
      "Using 3 columns for non-linearity table.\n",
      "Using 3 columns for non-linearity table.\n",
      "Using 3 columns for non-linearity table.\n",
      "Using 3 columns for non-linearity table.\n",
      "Using 5 columns for non-linearity table.\n",
      "Using 5 columns for non-linearity table.\n",
      "Using 5 columns for non-linearity table.\n",
      "Using 5 columns for non-linearity table.\n",
      "Using 5 columns for non-linearity table.\n",
      "Using 5 columns for non-linearity table.\n",
      "Using 5 columns for non-linearity table.\n",
      "Using 5 columns for non-linearity table.\n",
      "Using 5 columns for non-linearity table.\n",
      "Using 5 columns for non-linearity table.\n",
      "Using 5 columns for non-linearity table.\n",
      "Using 5 columns for non-linearity table.\n",
      "Using 5 columns for non-linearity table.\n",
      "Using 5 columns for non-linearity table.\n",
      "Using 5 columns for non-linearity table.\n",
      "Using 5 columns for non-linearity table.\n",
      "Using 2 columns for non-linearity table.\n",
      "Using 2 columns for non-linearity table.\n",
      "Using 2 columns for non-linearity table.\n",
      "Using 2 columns for non-linearity table.\n",
      "Using 2 columns for non-linearity table.\n",
      "Using 2 columns for non-linearity table.\n",
      "Using 2 columns for non-linearity table.\n",
      "Using 4 columns for non-linearity table.\n",
      "Using 4 columns for non-linearity table.\n",
      "Using 4 columns for non-linearity table.\n",
      "Using 4 columns for non-linearity table.\n",
      "Using 4 columns for non-linearity table.\n",
      "Using 4 columns for non-linearity table.\n",
      "Using 4 columns for non-linearity table.\n",
      "Using 4 columns for non-linearity table.\n",
      "Using 4 columns for non-linearity table.\n",
      "Using 4 columns for non-linearity table.\n",
      "Using 4 columns for non-linearity table.\n",
      "Using 4 columns for non-linearity table.\n",
      "Using 4 columns for non-linearity table.\n",
      "Using 4 columns for non-linearity table.\n",
      "value (33368337210036184360453905842176) out of range: (0, 0)\n",
      "forward pass failed: \"failed to forward: [halo2] General synthesis error\"\n",
      "value (33368337210036184360453905842176) out of range: (0, 0)\n",
      "forward pass failed: \"failed to forward: [halo2] General synthesis error\"\n",
      "\n",
      "\n",
      " <------------- Numerical Fidelity Report (input_scale: 13, param_scale: 13, scale_input_multiplier: 1) ------------->\n",
      "\n",
      "+---------------+---------------+----------------+--------------+----------------+------------------+---------------+-----------------+--------------------+--------------------+------------------------+\n",
      "| mean_error    | median_error  | max_error      | min_error    | mean_abs_error | median_abs_error | max_abs_error | min_abs_error   | mean_squared_error | mean_percent_error | mean_abs_percent_error |\n",
      "+---------------+---------------+----------------+--------------+----------------+------------------+---------------+-----------------+--------------------+--------------------+------------------------+\n",
      "| -0.0035359515 | -0.0024449974 | 0.000029474497 | -0.007074535 | 0.0035359547   | 0.0024449974     | 0.007074535   | 0.0000076610595 | 0.000014760215     | -0.009278925       | 0.009279416            |\n",
      "+---------------+---------------+----------------+--------------+----------------+------------------+---------------+-----------------+--------------------+--------------------+------------------------+\n",
      "\n",
      "\n"
     ]
    },
    {
     "name": "stdout",
     "output_type": "stream",
     "text": [
      "Calibration duration for slerp: 81.44143986701965\n"
     ]
    }
   ],
   "source": [
    "# calibrate circuit\n",
    "val = torch.rand(1)\n",
    "loop = asyncio.get_event_loop()\n",
    "calibrate_start = time.time()\n",
    "\n",
    "# calibrate slerp\n",
    "op_name = 'slerp'\n",
    "example_inputs = (val, mlp1_param, mlp2_param)\n",
    "\n",
    "# inputs to merge function are the randomly sampled weight value, and the flattened parameters of each of the two parent models to be merged\n",
    "calibration_inputs = [[val.item()], \n",
    "                              torch.rand(*mlp1_param.shape).detach().numpy().reshape(-1).tolist(), \n",
    "                              torch.rand(*mlp2_param.shape).detach().numpy().reshape(-1).tolist()]\n",
    "input_names = ['val', 'parent_1', 'parent_2']  # input names\n",
    "operation_fn = slerp\n",
    "output_names = ['merged_weights']        # output name\n",
    "\n",
    "model_path, compiled_model_path, settings_path, vk_path, pk_path = await calibrate_operation(op_name, example_inputs, calibration_inputs, input_names, operation_fn, output_names)\n",
    "\n",
    "calibrate_end = time.time()\n",
    "calibration_duration = calibrate_end - calibrate_start\n",
    "print('Calibration duration for slerp: ' + str(calibration_duration))"
   ]
  },
  {
   "cell_type": "code",
   "execution_count": 7,
   "metadata": {},
   "outputs": [
    {
     "name": "stdout",
     "output_type": "stream",
     "text": [
      "get_srs(./test_merge_dir/slerp_settings.json\n",
      "after get_srs(./test_merge_dir/slerp_settings.json\n"
     ]
    }
   ],
   "source": [
    "# srs path\n",
    "print(f'get_srs({settings_path}')\n",
    "res = ezkl.get_srs(settings_path)\n",
    "print(f'after get_srs({settings_path}')"
   ]
  },
  {
   "cell_type": "code",
   "execution_count": null,
   "metadata": {},
   "outputs": [
    {
     "name": "stderr",
     "output_type": "stream",
     "text": [
      "Using 4 columns for non-linearity table.\n",
      "Using 4 columns for non-linearity table.\n",
      "Using 4 columns for non-linearity table.\n",
      "Using 4 columns for non-linearity table.\n",
      "Using 4 columns for non-linearity table.\n",
      "Using 4 columns for non-linearity table.\n"
     ]
    }
   ],
   "source": [
    "print(f'ezkl.setup({compiled_model_path},{vk_path},{pk_path}')\n",
    "res = ezkl.setup(\n",
    "        compiled_model_path,\n",
    "        vk_path,\n",
    "        pk_path,\n",
    "    )\n",
    "\n",
    "assert res == True"
   ]
  },
  {
   "cell_type": "code",
   "execution_count": null,
   "metadata": {},
   "outputs": [],
   "source": []
  }
 ],
 "metadata": {
  "colab": {
   "provenance": []
  },
  "kernelspec": {
   "display_name": "Python 3 (ipykernel)",
   "language": "python",
   "name": "python3"
  },
  "language_info": {
   "codemirror_mode": {
    "name": "ipython",
    "version": 3
   },
   "file_extension": ".py",
   "mimetype": "text/x-python",
   "name": "python",
   "nbconvert_exporter": "python",
   "pygments_lexer": "ipython3",
   "version": "3.12.4"
  }
 },
 "nbformat": 4,
 "nbformat_minor": 4
}
